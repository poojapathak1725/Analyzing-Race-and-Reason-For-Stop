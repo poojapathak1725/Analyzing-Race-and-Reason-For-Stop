{
 "cells": [
  {
   "cell_type": "markdown",
   "metadata": {},
   "source": [
    "# COGS 108 - Final Project "
   ]
  },
  {
   "cell_type": "markdown",
   "metadata": {},
   "source": [
    "# Names\n",
    "\n",
    "- Susanna Anil\n",
    "- Sahithi Chimmula\n",
    "- Reshma Karthikeyan\n",
    "- Shagun Khare\n",
    "- Pooja Pathak"
   ]
  },
  {
   "cell_type": "markdown",
   "metadata": {},
   "source": [
    "# Group Members IDs\n",
    "\n",
    "- A14635948\n",
    "- A15771255\n",
    "- A16056444\n",
    "- A15423523\n",
    "- A15430318"
   ]
  },
  {
   "cell_type": "markdown",
   "metadata": {},
   "source": [
    "# Research Question"
   ]
  },
  {
   "cell_type": "markdown",
   "metadata": {},
   "source": [
    "Is racial discrimination by law enforcement prevalent in San Diego, and how, if at all, does race affect the outcome of a police stop?"
   ]
  },
  {
   "cell_type": "markdown",
   "metadata": {},
   "source": [
    "## Background and Prior Work"
   ]
  },
  {
   "cell_type": "markdown",
   "metadata": {},
   "source": [
    "&nbsp;&nbsp;&nbsp;&nbsp;&nbsp;&nbsp; There have been multiple studies conducted studying the effect of race and attitudes towards police and police attitudes towards detainees. A cumulative paper detailed the conclusion of such studies by stating that although the gender and race of the detainee factor into police stress, work environment and home related issues play a bigger role on their behavior (He, Zhao, Ren). Many studies also stated that there is a distinct racial gap between the public’s attitude towards police with African Americans having a relatively less positive attitude in comparison to White Americans (Eschholz, Blackwell, Gertz, Chiricos). Blackwell’s study, like many others, only studied a sample space consisting of White Americans and African Americans. One such study stated “The probability of being black, unarmed and shot by police is about 3.5 times the probability of being white, unarmed and shot by police” (Ross, 2015).  Studies like the aforementioned fall short as they didn’t study the relations between police and other racial groups. The incentive for these studies to do so could stem from the media's influence on the public’s view of the police. \n",
    "\n",
    "&nbsp;&nbsp;&nbsp;&nbsp;&nbsp;&nbsp; The media has generally portrayed adverse relations between African Americans and police as a result of unequal police brutality. NIJ even claimed, \"African-Americans who live in high-crime areas and who regularly hear others talk about police misconduct are especially likely to believe misconduct is common.\" Conversely, police depend on the cooperation of the public in order to complete their duties properly. As a result, it creates a cycle between the media disproportionately displaying negative police attitudes towards racial groups and consequently the public loses faith in the police. Our goal is to determine if this notion has truth behind it and race, in fact, does have an effect on the behavior of police.\n",
    "\n",
    "\n",
    "References (include links):\n",
    "\n",
    "- 1) Eschholz, Sarah, et al. “Race and Attitudes toward the Police: Assessing the Effects of Watching ‘Reality’ Police Programs.” Journal of Criminal Justice, Pergamon, 27 Mar. 2002, www.sciencedirect.com/science/article/pii/S0047235202001332.\n",
    "\n",
    "- 2) He, Ni, et al. “Do Race and Gender Matter in Police Stress? A Preliminary Assessment of the Interactive Effects.” Journal of Criminal Justice, Pergamon, 28 Sept. 2005, www.sciencedirect.com/science/article/pii/S0047235205000590.\n",
    "- 3) “Perceptions of Treatment by Police: Impacts of Personal Interactions and the Media.” National Institute of Justice, U.S. Department of Justice, 17 Mar. 2014, nij.ojp.gov/topics/articles/perceptions-treatment-police-impacts-personal-interactions-and-media.\n",
    "- 4) “San Diego, CA Crime Rates.” NeighborhoodScout, CoreLogic, www.neighborhoodscout.com/ca/san-diego/crime.\n",
    "\n"
   ]
  },
  {
   "cell_type": "markdown",
   "metadata": {},
   "source": [
    "# Hypothesis\n"
   ]
  },
  {
   "cell_type": "markdown",
   "metadata": {},
   "source": [
    "We believe that police action is not influenced by race. Instead, the result of the misdemeanor reflects the severity of the offense committed."
   ]
  },
  {
   "cell_type": "markdown",
   "metadata": {},
   "source": [
    "# Data"
   ]
  },
  {
   "cell_type": "markdown",
   "metadata": {},
   "source": [
    "&nbsp;&nbsp;&nbsp;&nbsp;&nbsp;&nbsp; An ideal dataset would include variables such as the neighborhood or location of a police stop, race of involved individuals, and outcome of a police stop. Any number of observations over 140,000 would be sufficient to form conclusions about the effect of race and neighborhood on police stop outcomes, as the population of San Diego is currently 1.42 million. In a perfect world, this data would be collected by the government or police department of San Diego, as they have the most holistic and up-to-date records regarding police stops and the demographics of involved individuals. An ideal dataset would account for all police stops in a given year, with no unrecorded instances; however, this is unlikely to be true of any datasets and will have to be accounted for in our final analysis.\n",
    "\n",
    "&nbsp;&nbsp;&nbsp;&nbsp;&nbsp;&nbsp; It would be preferable for our data to be semi-structured because these data are easiest to search and work with. Several file types would work for analysis purposes, including CSV and JSON files, as they can provide well-organized and efficient access to variables such as race and location of police stops. The data collected or found will be stored in Panda’s dataframes to allow for easy lookup and wrangling.\n",
    "\n",
    "- https://data.sandiego.gov/datasets/police-ripa-stops/?fbclid=IwAR1GexpxU944u1UpKwulxAWFWrlYXzStxp5195Rfeqt-q7SbJRVew0YvGQQ\n",
    "\n",
    "&nbsp;&nbsp;&nbsp;&nbsp;&nbsp;&nbsp; This dataset includes all the police stops and includes information about the reason for their stop.\n",
    "- https://data.sandiego.gov/datasets/police-ripa-race/\n",
    "\n",
    "&nbsp;&nbsp;&nbsp;&nbsp;&nbsp;&nbsp; This dataset includes the race of all the detainees.\n",
    "- https://data.sandiego.gov/datasets/police-ripa-stop-result/\n",
    "\n",
    "&nbsp;&nbsp;&nbsp;&nbsp;&nbsp;&nbsp; This dataset includes the result from each of the stops. This way we can decide how a certain reason results in a certain outcome. "
   ]
  },
  {
   "cell_type": "markdown",
   "metadata": {},
   "source": [
    "# Ethics & Privacy"
   ]
  },
  {
   "cell_type": "markdown",
   "metadata": {},
   "source": [
    "&nbsp;&nbsp;&nbsp;&nbsp;&nbsp;&nbsp; According to the datasets we have obtained by the city of San Diego, we have the proper consent to use the data provided for our own research purposes. In most cases and to abide by the law, the police are required to report and record such data when arresting people. Since it is mandated by the government, verbal consent is not required for data collection. Furthermore, these data sets are provided to the public anonymously and are made available by the city of San Diego with the intention of public use, meaning that we do not foresee any potential issues when using this data. If there are unaccounted privacy issues, we will be willing to drop any data that will violate the terms of data privacy. However, these issues will be unlikely considering the fact that we have acquired this data from the city of San Diego.\n",
    "\n",
    "&nbsp;&nbsp;&nbsp;&nbsp;&nbsp;&nbsp; In order to ensure there are no potential biases in our dataset collection and analysis, we have identified the different areas where our data could possibly be affected by prior affiliation and addressed them separately. None of our team members are associated or concerned with San Diego law enforcement, so we have no stake in any of the results. This addresses the issue of team bias as a whole. In terms of data collection, all data is collected from online public databases made available by the city of San Diego. The data we use is from a dataset where every stop made by law enforcement in the past year is recorded, which addresses the issue of sampling bias. We plan to use only the data made available to us online, and there is no personal handpicking of races for specific analysis. There could be possible human bias, or racial discrimination which we plan to explore through analysis in this project. This is how we plan to keep our data collection process transparent and free from bias.\n",
    "Moving forward to algorithmic analysis, we will maintain an objective outlook and analyze all data at hand. We will use the labels, variables and categories as used by the city of San Diego to avoid affecting the analysis with our own bias. We will not use any previous data to influence our analysis thereby ensuring our analysis is not affected by any prior discrimination towards certain races. Lastly, to keep ourselves accountable, we plan to constantly monitor data and use all the datasets that are made available to us per the San Diego website’s updates. At each step of the project, we will revisit this checklist and ensure that we are ethical and bias-free. \n",
    "\n",
    "&nbsp;&nbsp;&nbsp;&nbsp;&nbsp;&nbsp; Although we might make sure that all the biases and privacy issues are cleared, there is a possibility that we have not accounted for the consequences that will ensue after coming to a conclusion. One possible consequence can be how the public reacts to our results. For example, our results might show that one minority race might be more likely to be arrested than the other respective races, so we do not intend to negatively portray any group whether it be the police or people of that specific race. In order to limit these consequences, biases, and possible issues with data privacy, we hope to be completely transparent when communicating our results. We will do our best in delivering results with as much detail as possible, so that people curious about our findings will understand that our conclusion and analysis is void of any external and personal factors.\n"
   ]
  }
 ],
 "metadata": {
  "kernelspec": {
   "display_name": "Python 3",
   "language": "python",
   "name": "python3"
  },
  "language_info": {
   "codemirror_mode": {
    "name": "ipython",
    "version": 3
   },
   "file_extension": ".py",
   "mimetype": "text/x-python",
   "name": "python",
   "nbconvert_exporter": "python",
   "pygments_lexer": "ipython3",
   "version": "3.6.7"
  }
 },
 "nbformat": 4,
 "nbformat_minor": 2
}
